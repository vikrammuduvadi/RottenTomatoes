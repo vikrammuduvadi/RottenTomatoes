{
 "cells": [
  {
   "cell_type": "markdown",
   "id": "301f675d-d03f-4325-9abf-95a5c6a859ba",
   "metadata": {},
   "source": [
    "PROJECT ROTTEN_TOMATOES\n",
    "The objective of this project is to predict the outcome of a movie - If it is FRESH or ROTTEN\n",
    "FRESH  would mean the movie is good, well liked by the audience\n",
    "ROTTEN would mean the movie has no takers.\n",
    "\n"
   ]
  },
  {
   "cell_type": "raw",
   "id": "c72bdc82-e42f-44f8-ac0c-e3d43e13ab5e",
   "metadata": {},
   "source": [
    "FETCH DATA\n",
    "The first step is to read from the CSV file and display it in rows and cloumns format.\n",
    "Save it in the data frame format"
   ]
  },
  {
   "cell_type": "code",
   "execution_count": 1,
   "id": "d9888c66-aa91-4cc7-b8cc-59b3dcb8d396",
   "metadata": {},
   "outputs": [],
   "source": [
    "import pandas as pd\n",
    "import warnings\n",
    "warnings.filterwarnings('ignore')"
   ]
  },
  {
   "cell_type": "code",
   "execution_count": 2,
   "id": "b8288172-356e-4a56-bf98-e6c90bdde348",
   "metadata": {},
   "outputs": [
    {
     "data": {
      "text/html": [
       "<div>\n",
       "<style scoped>\n",
       "    .dataframe tbody tr th:only-of-type {\n",
       "        vertical-align: middle;\n",
       "    }\n",
       "\n",
       "    .dataframe tbody tr th {\n",
       "        vertical-align: top;\n",
       "    }\n",
       "\n",
       "    .dataframe thead th {\n",
       "        text-align: right;\n",
       "    }\n",
       "</style>\n",
       "<table border=\"1\" class=\"dataframe\">\n",
       "  <thead>\n",
       "    <tr style=\"text-align: right;\">\n",
       "      <th></th>\n",
       "      <th>rotten_tomatoes_link</th>\n",
       "      <th>movie_title</th>\n",
       "      <th>movie_info</th>\n",
       "      <th>critics_consensus</th>\n",
       "      <th>content_rating</th>\n",
       "      <th>genres</th>\n",
       "      <th>directors</th>\n",
       "      <th>authors</th>\n",
       "      <th>actors</th>\n",
       "      <th>original_release_date</th>\n",
       "      <th>...</th>\n",
       "      <th>production_company</th>\n",
       "      <th>tomatometer_status</th>\n",
       "      <th>tomatometer_rating</th>\n",
       "      <th>tomatometer_count</th>\n",
       "      <th>audience_status</th>\n",
       "      <th>audience_rating</th>\n",
       "      <th>audience_count</th>\n",
       "      <th>tomatometer_top_critics_count</th>\n",
       "      <th>tomatometer_fresh_critics_count</th>\n",
       "      <th>tomatometer_rotten_critics_count</th>\n",
       "    </tr>\n",
       "  </thead>\n",
       "  <tbody>\n",
       "    <tr>\n",
       "      <th>0</th>\n",
       "      <td>m/0814255</td>\n",
       "      <td>Percy Jackson &amp; the Olympians: The Lightning T...</td>\n",
       "      <td>Always trouble-prone, the life of teenager Per...</td>\n",
       "      <td>Though it may seem like just another Harry Pot...</td>\n",
       "      <td>PG</td>\n",
       "      <td>Action &amp; Adventure, Comedy, Drama, Science Fic...</td>\n",
       "      <td>Chris Columbus</td>\n",
       "      <td>Craig Titley, Chris Columbus, Rick Riordan</td>\n",
       "      <td>Logan Lerman, Brandon T. Jackson, Alexandra Da...</td>\n",
       "      <td>2010-02-12</td>\n",
       "      <td>...</td>\n",
       "      <td>20th Century Fox</td>\n",
       "      <td>Rotten</td>\n",
       "      <td>49.0</td>\n",
       "      <td>149.0</td>\n",
       "      <td>Spilled</td>\n",
       "      <td>53.0</td>\n",
       "      <td>254421.0</td>\n",
       "      <td>43</td>\n",
       "      <td>73</td>\n",
       "      <td>76</td>\n",
       "    </tr>\n",
       "    <tr>\n",
       "      <th>1</th>\n",
       "      <td>m/0878835</td>\n",
       "      <td>Please Give</td>\n",
       "      <td>Kate (Catherine Keener) and her husband Alex (...</td>\n",
       "      <td>Nicole Holofcener's newest might seem slight i...</td>\n",
       "      <td>R</td>\n",
       "      <td>Comedy</td>\n",
       "      <td>Nicole Holofcener</td>\n",
       "      <td>Nicole Holofcener</td>\n",
       "      <td>Catherine Keener, Amanda Peet, Oliver Platt, R...</td>\n",
       "      <td>2010-04-30</td>\n",
       "      <td>...</td>\n",
       "      <td>Sony Pictures Classics</td>\n",
       "      <td>Certified-Fresh</td>\n",
       "      <td>87.0</td>\n",
       "      <td>142.0</td>\n",
       "      <td>Upright</td>\n",
       "      <td>64.0</td>\n",
       "      <td>11574.0</td>\n",
       "      <td>44</td>\n",
       "      <td>123</td>\n",
       "      <td>19</td>\n",
       "    </tr>\n",
       "    <tr>\n",
       "      <th>2</th>\n",
       "      <td>m/10</td>\n",
       "      <td>10</td>\n",
       "      <td>A successful, middle-aged Hollywood songwriter...</td>\n",
       "      <td>Blake Edwards' bawdy comedy may not score a pe...</td>\n",
       "      <td>R</td>\n",
       "      <td>Comedy, Romance</td>\n",
       "      <td>Blake Edwards</td>\n",
       "      <td>Blake Edwards</td>\n",
       "      <td>Dudley Moore, Bo Derek, Julie Andrews, Robert ...</td>\n",
       "      <td>1979-10-05</td>\n",
       "      <td>...</td>\n",
       "      <td>Waner Bros.</td>\n",
       "      <td>Fresh</td>\n",
       "      <td>67.0</td>\n",
       "      <td>24.0</td>\n",
       "      <td>Spilled</td>\n",
       "      <td>53.0</td>\n",
       "      <td>14684.0</td>\n",
       "      <td>2</td>\n",
       "      <td>16</td>\n",
       "      <td>8</td>\n",
       "    </tr>\n",
       "    <tr>\n",
       "      <th>3</th>\n",
       "      <td>m/1000013-12_angry_men</td>\n",
       "      <td>12 Angry Men (Twelve Angry Men)</td>\n",
       "      <td>Following the closing arguments in a murder tr...</td>\n",
       "      <td>Sidney Lumet's feature debut is a superbly wri...</td>\n",
       "      <td>NR</td>\n",
       "      <td>Classics, Drama</td>\n",
       "      <td>Sidney Lumet</td>\n",
       "      <td>Reginald Rose</td>\n",
       "      <td>Martin Balsam, John Fiedler, Lee J. Cobb, E.G....</td>\n",
       "      <td>1957-04-13</td>\n",
       "      <td>...</td>\n",
       "      <td>Criterion Collection</td>\n",
       "      <td>Certified-Fresh</td>\n",
       "      <td>100.0</td>\n",
       "      <td>54.0</td>\n",
       "      <td>Upright</td>\n",
       "      <td>97.0</td>\n",
       "      <td>105386.0</td>\n",
       "      <td>6</td>\n",
       "      <td>54</td>\n",
       "      <td>0</td>\n",
       "    </tr>\n",
       "    <tr>\n",
       "      <th>4</th>\n",
       "      <td>m/1000079-20000_leagues_under_the_sea</td>\n",
       "      <td>20,000 Leagues Under The Sea</td>\n",
       "      <td>In 1866, Professor Pierre M. Aronnax (Paul Luk...</td>\n",
       "      <td>One of Disney's finest live-action adventures,...</td>\n",
       "      <td>G</td>\n",
       "      <td>Action &amp; Adventure, Drama, Kids &amp; Family</td>\n",
       "      <td>Richard Fleischer</td>\n",
       "      <td>Earl Felton</td>\n",
       "      <td>James Mason, Kirk Douglas, Paul Lukas, Peter L...</td>\n",
       "      <td>1954-01-01</td>\n",
       "      <td>...</td>\n",
       "      <td>Disney</td>\n",
       "      <td>Fresh</td>\n",
       "      <td>89.0</td>\n",
       "      <td>27.0</td>\n",
       "      <td>Upright</td>\n",
       "      <td>74.0</td>\n",
       "      <td>68918.0</td>\n",
       "      <td>5</td>\n",
       "      <td>24</td>\n",
       "      <td>3</td>\n",
       "    </tr>\n",
       "    <tr>\n",
       "      <th>5</th>\n",
       "      <td>m/10000_bc</td>\n",
       "      <td>10,000 B.C.</td>\n",
       "      <td>Mammoth hunter D'Leh (Steven Strait) has long ...</td>\n",
       "      <td>With attention strictly paid to style instead ...</td>\n",
       "      <td>PG-13</td>\n",
       "      <td>Action &amp; Adventure, Classics, Drama</td>\n",
       "      <td>Roland Emmerich</td>\n",
       "      <td>Harald Kloser, Roland Emmerich</td>\n",
       "      <td>Steven Strait, Camilla Belle, Cliff Curtis, Jo...</td>\n",
       "      <td>2008-03-07</td>\n",
       "      <td>...</td>\n",
       "      <td>Warner Bros. Pictures</td>\n",
       "      <td>Rotten</td>\n",
       "      <td>8.0</td>\n",
       "      <td>149.0</td>\n",
       "      <td>Spilled</td>\n",
       "      <td>37.0</td>\n",
       "      <td>411140.0</td>\n",
       "      <td>37</td>\n",
       "      <td>12</td>\n",
       "      <td>137</td>\n",
       "    </tr>\n",
       "    <tr>\n",
       "      <th>6</th>\n",
       "      <td>m/1000121-39_steps</td>\n",
       "      <td>The 39 Steps</td>\n",
       "      <td>While on vacation in London, Canadian Richard ...</td>\n",
       "      <td>Packed with twists and turns, this essential e...</td>\n",
       "      <td>NR</td>\n",
       "      <td>Action &amp; Adventure, Classics, Mystery &amp; Suspense</td>\n",
       "      <td>Alfred Hitchcock</td>\n",
       "      <td>Alma Reville, Charles Bennett, Ian Hay, Alfred...</td>\n",
       "      <td>Robert Donat, Madeleine Carroll, Godfrey Tearl...</td>\n",
       "      <td>1935-08-01</td>\n",
       "      <td>...</td>\n",
       "      <td>Gaumont British Distributors</td>\n",
       "      <td>Certified-Fresh</td>\n",
       "      <td>96.0</td>\n",
       "      <td>51.0</td>\n",
       "      <td>Upright</td>\n",
       "      <td>86.0</td>\n",
       "      <td>23890.0</td>\n",
       "      <td>8</td>\n",
       "      <td>49</td>\n",
       "      <td>2</td>\n",
       "    </tr>\n",
       "    <tr>\n",
       "      <th>7</th>\n",
       "      <td>m/1000123-310_to_yuma</td>\n",
       "      <td>3:10 to Yuma</td>\n",
       "      <td>Dan Evans (Van Heflin), a drought-plagued Ariz...</td>\n",
       "      <td>NaN</td>\n",
       "      <td>NR</td>\n",
       "      <td>Classics, Drama, Western</td>\n",
       "      <td>Delmer Daves</td>\n",
       "      <td>Halsted Welles</td>\n",
       "      <td>Glenn Ford, Van Heflin, Felicia Farr, Leora Da...</td>\n",
       "      <td>1957-08-07</td>\n",
       "      <td>...</td>\n",
       "      <td>Columbia Pictures</td>\n",
       "      <td>Fresh</td>\n",
       "      <td>96.0</td>\n",
       "      <td>28.0</td>\n",
       "      <td>Upright</td>\n",
       "      <td>79.0</td>\n",
       "      <td>9243.0</td>\n",
       "      <td>6</td>\n",
       "      <td>27</td>\n",
       "      <td>1</td>\n",
       "    </tr>\n",
       "    <tr>\n",
       "      <th>8</th>\n",
       "      <td>m/10002008-charly</td>\n",
       "      <td>Charly (A Heartbeat Away)</td>\n",
       "      <td>Cultural differences, past loves and personal ...</td>\n",
       "      <td>NaN</td>\n",
       "      <td>PG</td>\n",
       "      <td>Comedy, Drama, Romance</td>\n",
       "      <td>Adam Thomas Anderegg</td>\n",
       "      <td>Jack Weyland, Janine Whetton Gilbert</td>\n",
       "      <td>Heather Beers, Gary Neilson, Lisa McCammon, Ja...</td>\n",
       "      <td>2002-09-27</td>\n",
       "      <td>...</td>\n",
       "      <td>Excel Entertainment</td>\n",
       "      <td>Rotten</td>\n",
       "      <td>20.0</td>\n",
       "      <td>10.0</td>\n",
       "      <td>Upright</td>\n",
       "      <td>87.0</td>\n",
       "      <td>4819.0</td>\n",
       "      <td>0</td>\n",
       "      <td>2</td>\n",
       "      <td>8</td>\n",
       "    </tr>\n",
       "    <tr>\n",
       "      <th>9</th>\n",
       "      <td>m/1000204-abraham_lincoln</td>\n",
       "      <td>Abraham Lincoln</td>\n",
       "      <td>The 16th U.S. president (Walter Huston) is por...</td>\n",
       "      <td>NaN</td>\n",
       "      <td>NR</td>\n",
       "      <td>Classics, Drama</td>\n",
       "      <td>D.W. Griffith</td>\n",
       "      <td>Gerrit J. Lloyd, Stephen Vincent Benét</td>\n",
       "      <td>Walter Huston, Una Merkel, Kay Hammond, Ian Ke...</td>\n",
       "      <td>1930-11-08</td>\n",
       "      <td>...</td>\n",
       "      <td>United Artists</td>\n",
       "      <td>Fresh</td>\n",
       "      <td>82.0</td>\n",
       "      <td>11.0</td>\n",
       "      <td>Spilled</td>\n",
       "      <td>40.0</td>\n",
       "      <td>457.0</td>\n",
       "      <td>4</td>\n",
       "      <td>9</td>\n",
       "      <td>2</td>\n",
       "    </tr>\n",
       "  </tbody>\n",
       "</table>\n",
       "<p>10 rows × 22 columns</p>\n",
       "</div>"
      ],
      "text/plain": [
       "                    rotten_tomatoes_link  \\\n",
       "0                              m/0814255   \n",
       "1                              m/0878835   \n",
       "2                                   m/10   \n",
       "3                 m/1000013-12_angry_men   \n",
       "4  m/1000079-20000_leagues_under_the_sea   \n",
       "5                             m/10000_bc   \n",
       "6                     m/1000121-39_steps   \n",
       "7                  m/1000123-310_to_yuma   \n",
       "8                      m/10002008-charly   \n",
       "9              m/1000204-abraham_lincoln   \n",
       "\n",
       "                                         movie_title  \\\n",
       "0  Percy Jackson & the Olympians: The Lightning T...   \n",
       "1                                        Please Give   \n",
       "2                                                 10   \n",
       "3                    12 Angry Men (Twelve Angry Men)   \n",
       "4                       20,000 Leagues Under The Sea   \n",
       "5                                        10,000 B.C.   \n",
       "6                                       The 39 Steps   \n",
       "7                                       3:10 to Yuma   \n",
       "8                          Charly (A Heartbeat Away)   \n",
       "9                                    Abraham Lincoln   \n",
       "\n",
       "                                          movie_info  \\\n",
       "0  Always trouble-prone, the life of teenager Per...   \n",
       "1  Kate (Catherine Keener) and her husband Alex (...   \n",
       "2  A successful, middle-aged Hollywood songwriter...   \n",
       "3  Following the closing arguments in a murder tr...   \n",
       "4  In 1866, Professor Pierre M. Aronnax (Paul Luk...   \n",
       "5  Mammoth hunter D'Leh (Steven Strait) has long ...   \n",
       "6  While on vacation in London, Canadian Richard ...   \n",
       "7  Dan Evans (Van Heflin), a drought-plagued Ariz...   \n",
       "8  Cultural differences, past loves and personal ...   \n",
       "9  The 16th U.S. president (Walter Huston) is por...   \n",
       "\n",
       "                                   critics_consensus content_rating  \\\n",
       "0  Though it may seem like just another Harry Pot...             PG   \n",
       "1  Nicole Holofcener's newest might seem slight i...              R   \n",
       "2  Blake Edwards' bawdy comedy may not score a pe...              R   \n",
       "3  Sidney Lumet's feature debut is a superbly wri...             NR   \n",
       "4  One of Disney's finest live-action adventures,...              G   \n",
       "5  With attention strictly paid to style instead ...          PG-13   \n",
       "6  Packed with twists and turns, this essential e...             NR   \n",
       "7                                                NaN             NR   \n",
       "8                                                NaN             PG   \n",
       "9                                                NaN             NR   \n",
       "\n",
       "                                              genres             directors  \\\n",
       "0  Action & Adventure, Comedy, Drama, Science Fic...        Chris Columbus   \n",
       "1                                             Comedy     Nicole Holofcener   \n",
       "2                                    Comedy, Romance         Blake Edwards   \n",
       "3                                    Classics, Drama          Sidney Lumet   \n",
       "4           Action & Adventure, Drama, Kids & Family     Richard Fleischer   \n",
       "5                Action & Adventure, Classics, Drama       Roland Emmerich   \n",
       "6   Action & Adventure, Classics, Mystery & Suspense      Alfred Hitchcock   \n",
       "7                           Classics, Drama, Western          Delmer Daves   \n",
       "8                             Comedy, Drama, Romance  Adam Thomas Anderegg   \n",
       "9                                    Classics, Drama         D.W. Griffith   \n",
       "\n",
       "                                             authors  \\\n",
       "0         Craig Titley, Chris Columbus, Rick Riordan   \n",
       "1                                  Nicole Holofcener   \n",
       "2                                      Blake Edwards   \n",
       "3                                      Reginald Rose   \n",
       "4                                        Earl Felton   \n",
       "5                     Harald Kloser, Roland Emmerich   \n",
       "6  Alma Reville, Charles Bennett, Ian Hay, Alfred...   \n",
       "7                                     Halsted Welles   \n",
       "8               Jack Weyland, Janine Whetton Gilbert   \n",
       "9             Gerrit J. Lloyd, Stephen Vincent Benét   \n",
       "\n",
       "                                              actors original_release_date  \\\n",
       "0  Logan Lerman, Brandon T. Jackson, Alexandra Da...            2010-02-12   \n",
       "1  Catherine Keener, Amanda Peet, Oliver Platt, R...            2010-04-30   \n",
       "2  Dudley Moore, Bo Derek, Julie Andrews, Robert ...            1979-10-05   \n",
       "3  Martin Balsam, John Fiedler, Lee J. Cobb, E.G....            1957-04-13   \n",
       "4  James Mason, Kirk Douglas, Paul Lukas, Peter L...            1954-01-01   \n",
       "5  Steven Strait, Camilla Belle, Cliff Curtis, Jo...            2008-03-07   \n",
       "6  Robert Donat, Madeleine Carroll, Godfrey Tearl...            1935-08-01   \n",
       "7  Glenn Ford, Van Heflin, Felicia Farr, Leora Da...            1957-08-07   \n",
       "8  Heather Beers, Gary Neilson, Lisa McCammon, Ja...            2002-09-27   \n",
       "9  Walter Huston, Una Merkel, Kay Hammond, Ian Ke...            1930-11-08   \n",
       "\n",
       "   ...            production_company  tomatometer_status tomatometer_rating  \\\n",
       "0  ...              20th Century Fox              Rotten               49.0   \n",
       "1  ...        Sony Pictures Classics     Certified-Fresh               87.0   \n",
       "2  ...                   Waner Bros.               Fresh               67.0   \n",
       "3  ...          Criterion Collection     Certified-Fresh              100.0   \n",
       "4  ...                        Disney               Fresh               89.0   \n",
       "5  ...         Warner Bros. Pictures              Rotten                8.0   \n",
       "6  ...  Gaumont British Distributors     Certified-Fresh               96.0   \n",
       "7  ...             Columbia Pictures               Fresh               96.0   \n",
       "8  ...           Excel Entertainment              Rotten               20.0   \n",
       "9  ...                United Artists               Fresh               82.0   \n",
       "\n",
       "  tomatometer_count  audience_status  audience_rating audience_count  \\\n",
       "0             149.0          Spilled             53.0       254421.0   \n",
       "1             142.0          Upright             64.0        11574.0   \n",
       "2              24.0          Spilled             53.0        14684.0   \n",
       "3              54.0          Upright             97.0       105386.0   \n",
       "4              27.0          Upright             74.0        68918.0   \n",
       "5             149.0          Spilled             37.0       411140.0   \n",
       "6              51.0          Upright             86.0        23890.0   \n",
       "7              28.0          Upright             79.0         9243.0   \n",
       "8              10.0          Upright             87.0         4819.0   \n",
       "9              11.0          Spilled             40.0          457.0   \n",
       "\n",
       "   tomatometer_top_critics_count  tomatometer_fresh_critics_count  \\\n",
       "0                             43                               73   \n",
       "1                             44                              123   \n",
       "2                              2                               16   \n",
       "3                              6                               54   \n",
       "4                              5                               24   \n",
       "5                             37                               12   \n",
       "6                              8                               49   \n",
       "7                              6                               27   \n",
       "8                              0                                2   \n",
       "9                              4                                9   \n",
       "\n",
       "   tomatometer_rotten_critics_count  \n",
       "0                                76  \n",
       "1                                19  \n",
       "2                                 8  \n",
       "3                                 0  \n",
       "4                                 3  \n",
       "5                               137  \n",
       "6                                 2  \n",
       "7                                 1  \n",
       "8                                 8  \n",
       "9                                 2  \n",
       "\n",
       "[10 rows x 22 columns]"
      ]
     },
     "execution_count": 2,
     "metadata": {},
     "output_type": "execute_result"
    }
   ],
   "source": [
    "df = pd.read_csv('rotten_tomatoes_movies.csv')\n",
    "df.head(10)"
   ]
  },
  {
   "cell_type": "code",
   "execution_count": 3,
   "id": "3e300183-fa2c-4e7d-89e9-cd0473e97b71",
   "metadata": {},
   "outputs": [
    {
     "name": "stdout",
     "output_type": "stream",
     "text": [
      "<class 'pandas.core.frame.DataFrame'>\n",
      "RangeIndex: 17712 entries, 0 to 17711\n",
      "Data columns (total 22 columns):\n",
      " #   Column                            Non-Null Count  Dtype  \n",
      "---  ------                            --------------  -----  \n",
      " 0   rotten_tomatoes_link              17712 non-null  object \n",
      " 1   movie_title                       17712 non-null  object \n",
      " 2   movie_info                        17391 non-null  object \n",
      " 3   critics_consensus                 9134 non-null   object \n",
      " 4   content_rating                    17712 non-null  object \n",
      " 5   genres                            17693 non-null  object \n",
      " 6   directors                         17518 non-null  object \n",
      " 7   authors                           16170 non-null  object \n",
      " 8   actors                            17360 non-null  object \n",
      " 9   original_release_date             16546 non-null  object \n",
      " 10  streaming_release_date            17328 non-null  object \n",
      " 11  runtime                           17398 non-null  float64\n",
      " 12  production_company                17213 non-null  object \n",
      " 13  tomatometer_status                17668 non-null  object \n",
      " 14  tomatometer_rating                17668 non-null  float64\n",
      " 15  tomatometer_count                 17668 non-null  float64\n",
      " 16  audience_status                   17264 non-null  object \n",
      " 17  audience_rating                   17416 non-null  float64\n",
      " 18  audience_count                    17415 non-null  float64\n",
      " 19  tomatometer_top_critics_count     17712 non-null  int64  \n",
      " 20  tomatometer_fresh_critics_count   17712 non-null  int64  \n",
      " 21  tomatometer_rotten_critics_count  17712 non-null  int64  \n",
      "dtypes: float64(5), int64(3), object(14)\n",
      "memory usage: 3.0+ MB\n"
     ]
    }
   ],
   "source": [
    "df.info()"
   ]
  },
  {
   "cell_type": "markdown",
   "id": "222efdbf-bed8-4ca0-9dd7-0da6a3debecb",
   "metadata": {},
   "source": [
    "DATA ANALYSIS & EDA\n",
    "\n",
    "Output --> y --> Tomatometer status.\n",
    "\n",
    "Lets only keep features that aid predictions of tomatometer status. By visual inspection, these come across as the most important features \n",
    "to determine the outcome of the tomatometer status\n",
    "\n",
    "1. Content_rating   \n",
    "2. Runtime\n",
    "3. Tomatometer rating\n",
    "4. Audience status\n",
    "5. Audience rating\n",
    "6. Audience count"
   ]
  },
  {
   "cell_type": "markdown",
   "id": "82741992-e906-406c-93a5-1459331ed5c7",
   "metadata": {},
   "source": [
    "Thus, we decided to keep 6 features to make an output prediction on if the tomatometer's rating will be FRESH or ROTTEN\n",
    "Let's check the shape before we even remove the unwanted columns"
   ]
  },
  {
   "cell_type": "code",
   "execution_count": 4,
   "id": "a3787402-5fc8-4762-9bdf-51ad22a1011c",
   "metadata": {},
   "outputs": [
    {
     "data": {
      "text/plain": [
       "(17712, 22)"
      ]
     },
     "execution_count": 4,
     "metadata": {},
     "output_type": "execute_result"
    }
   ],
   "source": [
    "df.shape"
   ]
  },
  {
   "cell_type": "markdown",
   "id": "caf4d217-7da2-4c24-843a-8ade2590cb42",
   "metadata": {},
   "source": [
    "Thus, we have 17,712 entries and 22 columns. Now let's run a bunch of trimming techniques to remove unwanted data."
   ]
  },
  {
   "cell_type": "code",
   "execution_count": 5,
   "id": "d7ebcd39-2b39-48c3-892e-578e55c8638d",
   "metadata": {},
   "outputs": [
    {
     "data": {
      "text/plain": [
       "rotten_tomatoes_link                   0\n",
       "movie_title                            0\n",
       "movie_info                           321\n",
       "critics_consensus                   8578\n",
       "content_rating                         0\n",
       "genres                                19\n",
       "directors                            194\n",
       "authors                             1542\n",
       "actors                               352\n",
       "original_release_date               1166\n",
       "streaming_release_date               384\n",
       "runtime                              314\n",
       "production_company                   499\n",
       "tomatometer_status                    44\n",
       "tomatometer_rating                    44\n",
       "tomatometer_count                     44\n",
       "audience_status                      448\n",
       "audience_rating                      296\n",
       "audience_count                       297\n",
       "tomatometer_top_critics_count          0\n",
       "tomatometer_fresh_critics_count        0\n",
       "tomatometer_rotten_critics_count       0\n",
       "dtype: int64"
      ]
     },
     "execution_count": 5,
     "metadata": {},
     "output_type": "execute_result"
    }
   ],
   "source": [
    "df.isnull().sum()\n"
   ]
  },
  {
   "cell_type": "markdown",
   "id": "f8a28998-45c6-4066-b012-7b84cf7268de",
   "metadata": {},
   "source": [
    "The below run confirms that we have multiple entries with null values. LEt's go ahead and get rid of all of them"
   ]
  },
  {
   "cell_type": "code",
   "execution_count": 6,
   "id": "1665cba7-340f-4d65-91be-4a3544ffa752",
   "metadata": {},
   "outputs": [
    {
     "data": {
      "text/plain": [
       "(8077, 22)"
      ]
     },
     "execution_count": 6,
     "metadata": {},
     "output_type": "execute_result"
    }
   ],
   "source": [
    "#Drop duplicates, and NAN's, and try to check the shape again\n",
    "df1 = df.drop_duplicates()\n",
    "df2 = df1.dropna()\n",
    "df2.shape"
   ]
  },
  {
   "cell_type": "markdown",
   "id": "4dae22b9-ab80-4c0d-abd2-d7b274817020",
   "metadata": {},
   "source": [
    "This is an excellent reduction. We have filtered out useless values and now remain with 8077 entries."
   ]
  },
  {
   "cell_type": "code",
   "execution_count": 7,
   "id": "5acccc3d-6aa0-41d2-ab1b-52f9ff74e355",
   "metadata": {},
   "outputs": [
    {
     "data": {
      "text/plain": [
       "rotten_tomatoes_link                17712\n",
       "movie_title                         17106\n",
       "movie_info                          17389\n",
       "critics_consensus                    9132\n",
       "content_rating                          6\n",
       "genres                               1106\n",
       "directors                            8933\n",
       "authors                             12989\n",
       "actors                              17330\n",
       "original_release_date                5804\n",
       "streaming_release_date               2271\n",
       "runtime                               190\n",
       "production_company                   3046\n",
       "tomatometer_status                      3\n",
       "tomatometer_rating                    101\n",
       "tomatometer_count                     407\n",
       "audience_status                         2\n",
       "audience_rating                        98\n",
       "audience_count                      11069\n",
       "tomatometer_top_critics_count          69\n",
       "tomatometer_fresh_critics_count       359\n",
       "tomatometer_rotten_critics_count      206\n",
       "dtype: int64"
      ]
     },
     "execution_count": 7,
     "metadata": {},
     "output_type": "execute_result"
    }
   ],
   "source": [
    "df.nunique()"
   ]
  },
  {
   "cell_type": "markdown",
   "id": "74b78198-79d8-41af-bf5a-da40f0f30ee7",
   "metadata": {},
   "source": [
    "These represent the number of unique values in the dataframe"
   ]
  },
  {
   "cell_type": "code",
   "execution_count": 8,
   "id": "20e52cfd-7127-4a8a-9454-83527a16c5c8",
   "metadata": {},
   "outputs": [],
   "source": [
    "import numpy as np\n",
    "import pandas as pd\n",
    "import matplotlib.pyplot as plt\n",
    "import seaborn as sns\n",
    "import sklearn.datasets\n",
    "from sklearn.model_selection import train_test_split\n",
    "from sklearn.linear_model import LogisticRegression\n",
    "from sklearn.metrics import accuracy_score,recall_score,precision_score,confusion_matrix,classification_report"
   ]
  },
  {
   "cell_type": "code",
   "execution_count": 9,
   "id": "fa8f91db-1d1a-4ed9-be2a-9b0d16b8a0d1",
   "metadata": {},
   "outputs": [],
   "source": [
    "X = df2[['content_rating','runtime','tomatometer_rating','audience_status','audience_rating','audience_count']]\n",
    "y = df2[['tomatometer_status']]\n"
   ]
  },
  {
   "cell_type": "code",
   "execution_count": 10,
   "id": "52b3a2bb-7a8c-4afe-86e6-5874ce729981",
   "metadata": {},
   "outputs": [
    {
     "name": "stdout",
     "output_type": "stream",
     "text": [
      "<class 'pandas.core.frame.DataFrame'>\n",
      "Index: 8077 entries, 0 to 17710\n",
      "Data columns (total 1 columns):\n",
      " #   Column              Non-Null Count  Dtype \n",
      "---  ------              --------------  ----- \n",
      " 0   tomatometer_status  8077 non-null   object\n",
      "dtypes: object(1)\n",
      "memory usage: 126.2+ KB\n"
     ]
    }
   ],
   "source": [
    "y.info()"
   ]
  },
  {
   "cell_type": "markdown",
   "id": "4ee8c105-dbe3-4cd7-b0f9-f5527981d2a7",
   "metadata": {},
   "source": [
    "Now, we have reduced the data to 8 culumns and have assigned X and y.\n",
    "Categorical features --> content_rating, genres,production_company, audience_status\n",
    "Numerical features --> runtime, tomatometer_rating, audience_rating, audience_count"
   ]
  },
  {
   "cell_type": "markdown",
   "id": "e6f9abd2-6d1f-48ac-adbe-b6cd92253c76",
   "metadata": {},
   "source": [
    "Now, let's investigate each categorical feature\n",
    "1. Audience Status has only 2 unique values. Let's use Ordinal encoding to replace this with 0,1"
   ]
  },
  {
   "cell_type": "code",
   "execution_count": 11,
   "id": "17a860dd-219b-4cd8-a10b-b311a6c9364d",
   "metadata": {},
   "outputs": [
    {
     "name": "stdout",
     "output_type": "stream",
     "text": [
      "Audience status unique value count is:['Spilled' 'Upright']\n"
     ]
    },
    {
     "data": {
      "text/plain": [
       "[Text(0, 0, '4703'), Text(0, 0, '3374')]"
      ]
     },
     "execution_count": 11,
     "metadata": {},
     "output_type": "execute_result"
    },
    {
     "data": {
      "image/png": "[encoded data removed]",
      "text/plain": [
       "<Figure size 500x500 with 1 Axes>"
      ]
     },
     "metadata": {},
     "output_type": "display_data"
    }
   ],
   "source": [
    "print(f\"Audience status unique value count is:{X.audience_status.unique()}\")\n",
    "bar_g = X.audience_status.value_counts().plot(kind='bar',figsize=(5,5))\n",
    "bar_g.bar_label(bar_g.containers[0])\n"
   ]
  },
  {
   "cell_type": "code",
   "execution_count": 12,
   "id": "478f9a82-7287-476b-b5e6-f0707bd416fd",
   "metadata": {},
   "outputs": [],
   "source": [
    "#Spilled --> 0, Upright --> 1\n",
    "X['audience_status'] = pd.DataFrame(X.audience_status.replace(['Spilled','Upright'],[0,1]))\n"
   ]
  },
  {
   "cell_type": "markdown",
   "id": "cc39f216-6c91-40a6-97f6-b986679d967e",
   "metadata": {},
   "source": [
    "Lets also do Ordinal Encoding for tomatometer_rating. It has 3 unique values."
   ]
  },
  {
   "cell_type": "code",
   "execution_count": 13,
   "id": "8c908e22-247e-45c7-a2f5-153ac34a1db8",
   "metadata": {},
   "outputs": [
    {
     "name": "stdout",
     "output_type": "stream",
     "text": [
      "Tomatometer unique value count is:['Rotten' 'Certified-Fresh' 'Fresh']\n"
     ]
    },
    {
     "data": {
      "text/plain": [
       "[Text(0, 0, '3419'), Text(0, 0, '2748'), Text(0, 0, '1910')]"
      ]
     },
     "execution_count": 13,
     "metadata": {},
     "output_type": "execute_result"
    },
    {
     "data": {
      "image/png": "[encoded data removed]",
      "text/plain": [
       "<Figure size 500x500 with 1 Axes>"
      ]
     },
     "metadata": {},
     "output_type": "display_data"
    }
   ],
   "source": [
    "print(f\"Tomatometer unique value count is:{y.tomatometer_status.unique()}\")\n",
    "bar_g = y.tomatometer_status.value_counts().plot(kind='bar',figsize=(5,5))\n",
    "bar_g.bar_label(bar_g.containers[0])"
   ]
  },
  {
   "cell_type": "markdown",
   "id": "335a7eff-f083-479d-b995-b44082e2042f",
   "metadata": {},
   "source": [
    "Apply Ordinal Encoder with these values\n",
    "Rotten -- 0\n",
    "Certified fresh -- 1\n",
    "Fresh -- 2"
   ]
  },
  {
   "cell_type": "code",
   "execution_count": 14,
   "id": "29d02f24-9615-429a-b3d0-8ae0cc3df748",
   "metadata": {},
   "outputs": [
    {
     "data": {
      "text/html": [
       "<div>\n",
       "<style scoped>\n",
       "    .dataframe tbody tr th:only-of-type {\n",
       "        vertical-align: middle;\n",
       "    }\n",
       "\n",
       "    .dataframe tbody tr th {\n",
       "        vertical-align: top;\n",
       "    }\n",
       "\n",
       "    .dataframe thead th {\n",
       "        text-align: right;\n",
       "    }\n",
       "</style>\n",
       "<table border=\"1\" class=\"dataframe\">\n",
       "  <thead>\n",
       "    <tr style=\"text-align: right;\">\n",
       "      <th></th>\n",
       "      <th>tomatometer_status</th>\n",
       "    </tr>\n",
       "  </thead>\n",
       "  <tbody>\n",
       "    <tr>\n",
       "      <th>0</th>\n",
       "      <td>0</td>\n",
       "    </tr>\n",
       "    <tr>\n",
       "      <th>1</th>\n",
       "      <td>1</td>\n",
       "    </tr>\n",
       "    <tr>\n",
       "      <th>2</th>\n",
       "      <td>2</td>\n",
       "    </tr>\n",
       "    <tr>\n",
       "      <th>3</th>\n",
       "      <td>1</td>\n",
       "    </tr>\n",
       "    <tr>\n",
       "      <th>4</th>\n",
       "      <td>2</td>\n",
       "    </tr>\n",
       "  </tbody>\n",
       "</table>\n",
       "</div>"
      ],
      "text/plain": [
       "   tomatometer_status\n",
       "0                   0\n",
       "1                   1\n",
       "2                   2\n",
       "3                   1\n",
       "4                   2"
      ]
     },
     "execution_count": 14,
     "metadata": {},
     "output_type": "execute_result"
    }
   ],
   "source": [
    "y['tomatometer_status'] = pd.DataFrame(y.tomatometer_status.replace(['Rotten','Certified-Fresh','Fresh'],[0,1,2]))\n",
    "y.head(5)"
   ]
  },
  {
   "cell_type": "code",
   "execution_count": 15,
   "id": "f7c3fbee-46f6-45cc-b5c5-8f4e03438d74",
   "metadata": {},
   "outputs": [
    {
     "name": "stdout",
     "output_type": "stream",
     "text": [
      "<class 'pandas.core.frame.DataFrame'>\n",
      "Index: 8077 entries, 0 to 17710\n",
      "Data columns (total 6 columns):\n",
      " #   Column              Non-Null Count  Dtype  \n",
      "---  ------              --------------  -----  \n",
      " 0   content_rating      8077 non-null   object \n",
      " 1   runtime             8077 non-null   float64\n",
      " 2   tomatometer_rating  8077 non-null   float64\n",
      " 3   audience_status     8077 non-null   int64  \n",
      " 4   audience_rating     8077 non-null   float64\n",
      " 5   audience_count      8077 non-null   float64\n",
      "dtypes: float64(4), int64(1), object(1)\n",
      "memory usage: 441.7+ KB\n"
     ]
    }
   ],
   "source": [
    "X.info()"
   ]
  },
  {
   "cell_type": "code",
   "execution_count": 16,
   "id": "cf4033cb-405c-4c41-b4c8-4dba932f9841",
   "metadata": {},
   "outputs": [
    {
     "name": "stdout",
     "output_type": "stream",
     "text": [
      "<class 'pandas.core.frame.DataFrame'>\n",
      "Index: 8077 entries, 0 to 17710\n",
      "Data columns (total 1 columns):\n",
      " #   Column              Non-Null Count  Dtype\n",
      "---  ------              --------------  -----\n",
      " 0   tomatometer_status  8077 non-null   int64\n",
      "dtypes: int64(1)\n",
      "memory usage: 126.2 KB\n"
     ]
    }
   ],
   "source": [
    "y.info()"
   ]
  },
  {
   "cell_type": "markdown",
   "id": "d1f2a65c-20c1-460b-8b25-d6fc3221a3fc",
   "metadata": {},
   "source": [
    "Now, lets examine content_rating. It is a categorical feature."
   ]
  },
  {
   "cell_type": "code",
   "execution_count": 17,
   "id": "14bce630-12b7-452e-9aec-5a8954aafa56",
   "metadata": {},
   "outputs": [
    {
     "name": "stdout",
     "output_type": "stream",
     "text": [
      "Audience status unique value count is:['PG' 'R' 'NR' 'G' 'PG-13' 'NC17']\n"
     ]
    },
    {
     "data": {
      "text/plain": [
       "[Text(0, 0, '3589'),\n",
       " Text(0, 0, '2030'),\n",
       " Text(0, 0, '1115'),\n",
       " Text(0, 0, '1037'),\n",
       " Text(0, 0, '283'),\n",
       " Text(0, 0, '23')]"
      ]
     },
     "execution_count": 17,
     "metadata": {},
     "output_type": "execute_result"
    },
    {
     "data": {
      "image/png": "[encoded data removed]",
      "text/plain": [
       "<Figure size 500x500 with 1 Axes>"
      ]
     },
     "metadata": {},
     "output_type": "display_data"
    }
   ],
   "source": [
    "print(f\"Audience status unique value count is:{X.content_rating.unique()}\")\n",
    "bar_g = X.content_rating.value_counts().plot(kind='bar',figsize=(5,5))\n",
    "bar_g.bar_label(bar_g.containers[0])"
   ]
  },
  {
   "cell_type": "markdown",
   "id": "992a6da2-6c96-49ce-93c3-5fe7585b2dd5",
   "metadata": {},
   "source": [
    "The content rating is a categorical feature with 6 unique features. \n",
    "Also the order of magnitude is not very important, hence use One Hot encoding technique.\n"
   ]
  },
  {
   "cell_type": "code",
   "execution_count": null,
   "id": "2a30f553-8251-411e-b36d-89fe6bde7e6b",
   "metadata": {},
   "outputs": [],
   "source": []
  },
  {
   "cell_type": "markdown",
   "id": "37cec03d-f1a7-463e-8a12-00b950a2d87e",
   "metadata": {},
   "source": [
    "TEST AND TRAIN SPLIT\n",
    "Now split the data into training and testing data - 75% to 20%"
   ]
  },
  {
   "cell_type": "code",
   "execution_count": 18,
   "id": "cae59f38-1cc8-4f0b-ab3c-f074511d1503",
   "metadata": {},
   "outputs": [
    {
     "name": "stdout",
     "output_type": "stream",
     "text": [
      "Size of training data is:6057\n",
      "Size of test data is:2020\n"
     ]
    }
   ],
   "source": [
    "from sklearn.model_selection import train_test_split\n",
    "X_train,X_test,y_train,y_test = train_test_split(X,y,test_size=0.25)\n",
    "print(f\"Size of training data is:{len(X_train)}\")\n",
    "print(f\"Size of test data is:{len(X_test)}\")"
   ]
  },
  {
   "cell_type": "markdown",
   "id": "863f6d4c-aae6-4960-85cd-411225fd74fd",
   "metadata": {},
   "source": [
    "Building a basic model - Let's try to use KNN and Tree Classifier"
   ]
  },
  {
   "cell_type": "code",
   "execution_count": 19,
   "id": "37e827df-deb3-4237-aec6-73fe322d616b",
   "metadata": {},
   "outputs": [],
   "source": [
    "from sklearn.linear_model import LinearRegression\n",
    "from sklearn.preprocessing import OneHotEncoder\n",
    "from sklearn.compose import make_column_transformer\n",
    "from sklearn.pipeline import make_pipeline\n",
    "from sklearn.linear_model import LogisticRegression\n",
    "from datetime import datetime"
   ]
  },
  {
   "cell_type": "code",
   "execution_count": 20,
   "id": "0a8e0567-eded-4857-9894-83e2ba133bce",
   "metadata": {},
   "outputs": [
    {
     "name": "stdout",
     "output_type": "stream",
     "text": [
      "CPU times: total: 62.5 ms\n",
      "Wall time: 78.3 ms\n"
     ]
    },
    {
     "data": {
      "text/html": [
       "<style>#sk-container-id-1 {color: black;background-color: white;}#sk-container-id-1 pre{padding: 0;}#sk-container-id-1 div.sk-toggleable {background-color: white;}#sk-container-id-1 label.sk-toggleable__label {cursor: pointer;display: block;width: 100%;margin-bottom: 0;padding: 0.3em;box-sizing: border-box;text-align: center;}#sk-container-id-1 label.sk-toggleable__label-arrow:before {content: \"▸\";float: left;margin-right: 0.25em;color: #696969;}#sk-container-id-1 label.sk-toggleable__label-arrow:hover:before {color: black;}#sk-container-id-1 div.sk-estimator:hover label.sk-toggleable__label-arrow:before {color: black;}#sk-container-id-1 div.sk-toggleable__content {max-height: 0;max-width: 0;overflow: hidden;text-align: left;background-color: #f0f8ff;}#sk-container-id-1 div.sk-toggleable__content pre {margin: 0.2em;color: black;border-radius: 0.25em;background-color: #f0f8ff;}#sk-container-id-1 input.sk-toggleable__control:checked~div.sk-toggleable__content {max-height: 200px;max-width: 100%;overflow: auto;}#sk-container-id-1 input.sk-toggleable__control:checked~label.sk-toggleable__label-arrow:before {content: \"▾\";}#sk-container-id-1 div.sk-estimator input.sk-toggleable__control:checked~label.sk-toggleable__label {background-color: #d4ebff;}#sk-container-id-1 div.sk-label input.sk-toggleable__control:checked~label.sk-toggleable__label {background-color: #d4ebff;}#sk-container-id-1 input.sk-hidden--visually {border: 0;clip: rect(1px 1px 1px 1px);clip: rect(1px, 1px, 1px, 1px);height: 1px;margin: -1px;overflow: hidden;padding: 0;position: absolute;width: 1px;}#sk-container-id-1 div.sk-estimator {font-family: monospace;background-color: #f0f8ff;border: 1px dotted black;border-radius: 0.25em;box-sizing: border-box;margin-bottom: 0.5em;}#sk-container-id-1 div.sk-estimator:hover {background-color: #d4ebff;}#sk-container-id-1 div.sk-parallel-item::after {content: \"\";width: 100%;border-bottom: 1px solid gray;flex-grow: 1;}#sk-container-id-1 div.sk-label:hover label.sk-toggleable__label {background-color: #d4ebff;}#sk-container-id-1 div.sk-serial::before {content: \"\";position: absolute;border-left: 1px solid gray;box-sizing: border-box;top: 0;bottom: 0;left: 50%;z-index: 0;}#sk-container-id-1 div.sk-serial {display: flex;flex-direction: column;align-items: center;background-color: white;padding-right: 0.2em;padding-left: 0.2em;position: relative;}#sk-container-id-1 div.sk-item {position: relative;z-index: 1;}#sk-container-id-1 div.sk-parallel {display: flex;align-items: stretch;justify-content: center;background-color: white;position: relative;}#sk-container-id-1 div.sk-item::before, #sk-container-id-1 div.sk-parallel-item::before {content: \"\";position: absolute;border-left: 1px solid gray;box-sizing: border-box;top: 0;bottom: 0;left: 50%;z-index: -1;}#sk-container-id-1 div.sk-parallel-item {display: flex;flex-direction: column;z-index: 1;position: relative;background-color: white;}#sk-container-id-1 div.sk-parallel-item:first-child::after {align-self: flex-end;width: 50%;}#sk-container-id-1 div.sk-parallel-item:last-child::after {align-self: flex-start;width: 50%;}#sk-container-id-1 div.sk-parallel-item:only-child::after {width: 0;}#sk-container-id-1 div.sk-dashed-wrapped {border: 1px dashed gray;margin: 0 0.4em 0.5em 0.4em;box-sizing: border-box;padding-bottom: 0.4em;background-color: white;}#sk-container-id-1 div.sk-label label {font-family: monospace;font-weight: bold;display: inline-block;line-height: 1.2em;}#sk-container-id-1 div.sk-label-container {text-align: center;}#sk-container-id-1 div.sk-container {/* jupyter's `normalize.less` sets `[hidden] { display: none; }` but bootstrap.min.css set `[hidden] { display: none !important; }` so we also need the `!important` here to be able to override the default hidden behavior on the sphinx rendered scikit-learn.org. See: https://github.com/scikit-learn/scikit-learn/issues/21755 */display: inline-block !important;position: relative;}#sk-container-id-1 div.sk-text-repr-fallback {display: none;}</style><div id=\"sk-container-id-1\" class=\"sk-top-container\"><div class=\"sk-text-repr-fallback\"><pre>Pipeline(steps=[(&#x27;columntransformer&#x27;,\n",
       "                 ColumnTransformer(remainder=&#x27;passthrough&#x27;,\n",
       "                                   transformers=[(&#x27;onehotencoder&#x27;,\n",
       "                                                  OneHotEncoder(),\n",
       "                                                  [&#x27;content_rating&#x27;])])),\n",
       "                (&#x27;kneighborsclassifier&#x27;, KNeighborsClassifier(n_neighbors=3))])</pre><b>In a Jupyter environment, please rerun this cell to show the HTML representation or trust the notebook. <br />On GitHub, the HTML representation is unable to render, please try loading this page with nbviewer.org.</b></div><div class=\"sk-container\" hidden><div class=\"sk-item sk-dashed-wrapped\"><div class=\"sk-label-container\"><div class=\"sk-label sk-toggleable\"><input class=\"sk-toggleable__control sk-hidden--visually\" id=\"sk-estimator-id-1\" type=\"checkbox\" ><label for=\"sk-estimator-id-1\" class=\"sk-toggleable__label sk-toggleable__label-arrow\">Pipeline</label><div class=\"sk-toggleable__content\"><pre>Pipeline(steps=[(&#x27;columntransformer&#x27;,\n",
       "                 ColumnTransformer(remainder=&#x27;passthrough&#x27;,\n",
       "                                   transformers=[(&#x27;onehotencoder&#x27;,\n",
       "                                                  OneHotEncoder(),\n",
       "                                                  [&#x27;content_rating&#x27;])])),\n",
       "                (&#x27;kneighborsclassifier&#x27;, KNeighborsClassifier(n_neighbors=3))])</pre></div></div></div><div class=\"sk-serial\"><div class=\"sk-item sk-dashed-wrapped\"><div class=\"sk-label-container\"><div class=\"sk-label sk-toggleable\"><input class=\"sk-toggleable__control sk-hidden--visually\" id=\"sk-estimator-id-2\" type=\"checkbox\" ><label for=\"sk-estimator-id-2\" class=\"sk-toggleable__label sk-toggleable__label-arrow\">columntransformer: ColumnTransformer</label><div class=\"sk-toggleable__content\"><pre>ColumnTransformer(remainder=&#x27;passthrough&#x27;,\n",
       "                  transformers=[(&#x27;onehotencoder&#x27;, OneHotEncoder(),\n",
       "                                 [&#x27;content_rating&#x27;])])</pre></div></div></div><div class=\"sk-parallel\"><div class=\"sk-parallel-item\"><div class=\"sk-item\"><div class=\"sk-label-container\"><div class=\"sk-label sk-toggleable\"><input class=\"sk-toggleable__control sk-hidden--visually\" id=\"sk-estimator-id-3\" type=\"checkbox\" ><label for=\"sk-estimator-id-3\" class=\"sk-toggleable__label sk-toggleable__label-arrow\">onehotencoder</label><div class=\"sk-toggleable__content\"><pre>[&#x27;content_rating&#x27;]</pre></div></div></div><div class=\"sk-serial\"><div class=\"sk-item\"><div class=\"sk-estimator sk-toggleable\"><input class=\"sk-toggleable__control sk-hidden--visually\" id=\"sk-estimator-id-4\" type=\"checkbox\" ><label for=\"sk-estimator-id-4\" class=\"sk-toggleable__label sk-toggleable__label-arrow\">OneHotEncoder</label><div class=\"sk-toggleable__content\"><pre>OneHotEncoder()</pre></div></div></div></div></div></div><div class=\"sk-parallel-item\"><div class=\"sk-item\"><div class=\"sk-label-container\"><div class=\"sk-label sk-toggleable\"><input class=\"sk-toggleable__control sk-hidden--visually\" id=\"sk-estimator-id-5\" type=\"checkbox\" ><label for=\"sk-estimator-id-5\" class=\"sk-toggleable__label sk-toggleable__label-arrow\">remainder</label><div class=\"sk-toggleable__content\"><pre>[&#x27;runtime&#x27;, &#x27;tomatometer_rating&#x27;, &#x27;audience_status&#x27;, &#x27;audience_rating&#x27;, &#x27;audience_count&#x27;]</pre></div></div></div><div class=\"sk-serial\"><div class=\"sk-item\"><div class=\"sk-estimator sk-toggleable\"><input class=\"sk-toggleable__control sk-hidden--visually\" id=\"sk-estimator-id-6\" type=\"checkbox\" ><label for=\"sk-estimator-id-6\" class=\"sk-toggleable__label sk-toggleable__label-arrow\">passthrough</label><div class=\"sk-toggleable__content\"><pre>passthrough</pre></div></div></div></div></div></div></div></div><div class=\"sk-item\"><div class=\"sk-estimator sk-toggleable\"><input class=\"sk-toggleable__control sk-hidden--visually\" id=\"sk-estimator-id-7\" type=\"checkbox\" ><label for=\"sk-estimator-id-7\" class=\"sk-toggleable__label sk-toggleable__label-arrow\">KNeighborsClassifier</label><div class=\"sk-toggleable__content\"><pre>KNeighborsClassifier(n_neighbors=3)</pre></div></div></div></div></div></div></div>"
      ],
      "text/plain": [
       "Pipeline(steps=[('columntransformer',\n",
       "                 ColumnTransformer(remainder='passthrough',\n",
       "                                   transformers=[('onehotencoder',\n",
       "                                                  OneHotEncoder(),\n",
       "                                                  ['content_rating'])])),\n",
       "                ('kneighborsclassifier', KNeighborsClassifier(n_neighbors=3))])"
      ]
     },
     "execution_count": 20,
     "metadata": {},
     "output_type": "execute_result"
    }
   ],
   "source": [
    "%%time\n",
    "#Test the K neighbors classification with the default parameters\n",
    "from sklearn.neighbors import KNeighborsClassifier \n",
    "ohe = OneHotEncoder()\n",
    "column_trans = make_column_transformer((ohe,['content_rating']),\n",
    "                                        remainder='passthrough')\n",
    "\n",
    "KNN=KNeighborsClassifier(n_neighbors=3)\n",
    "\n",
    "pipe = make_pipeline(column_trans,KNN)\n",
    "pipe.fit(X_train,y_train)"
   ]
  },
  {
   "cell_type": "code",
   "execution_count": 21,
   "id": "f21f7a89-47ad-45b9-98d3-94dbae46f2d5",
   "metadata": {},
   "outputs": [
    {
     "name": "stdout",
     "output_type": "stream",
     "text": [
      "Classification  report is as follows :\n",
      "               precision    recall  f1-score   support\n",
      "\n",
      "           0       0.64      0.79      0.71       847\n",
      "           1       0.53      0.45      0.49       698\n",
      "           2       0.36      0.29      0.32       475\n",
      "\n",
      "    accuracy                           0.55      2020\n",
      "   macro avg       0.51      0.51      0.51      2020\n",
      "weighted avg       0.54      0.55      0.54      2020\n",
      " \n",
      "Accuracy of the training model is 77.29899290077597 \n",
      "Accuracy of the testing model is 55.44554455445545 \n"
     ]
    }
   ],
   "source": [
    "y_pred=pipe.predict(X_test)\n",
    "y_train_pred = pipe.predict(X_train)\n",
    "\n",
    "report = classification_report(y_test,y_pred)\n",
    "print(f\"Classification  report is as follows :\\n {report} \")\n",
    "\n",
    "acc_tr_knn = accuracy_score(y_train,y_train_pred)*100\n",
    "acc_te_knn = accuracy_score(y_test,y_pred)*100\n",
    "\n",
    "print(f\"Accuracy of the training model is {accuracy_score(y_train,y_train_pred)*100} \")\n",
    "print(f\"Accuracy of the testing model is {accuracy_score(y_test,y_pred)*100} \")"
   ]
  },
  {
   "cell_type": "markdown",
   "id": "aa87d246-057b-453e-92bd-65058004e1e8",
   "metadata": {},
   "source": [
    "DECISION TREE for comparision\n"
   ]
  },
  {
   "cell_type": "code",
   "execution_count": 22,
   "id": "4a7ff853-1b50-4522-8b07-22ac7a588d47",
   "metadata": {},
   "outputs": [
    {
     "name": "stdout",
     "output_type": "stream",
     "text": [
      "CPU times: total: 62.5 ms\n",
      "Wall time: 67 ms\n"
     ]
    },
    {
     "data": {
      "text/html": [
       "<style>#sk-container-id-2 {color: black;background-color: white;}#sk-container-id-2 pre{padding: 0;}#sk-container-id-2 div.sk-toggleable {background-color: white;}#sk-container-id-2 label.sk-toggleable__label {cursor: pointer;display: block;width: 100%;margin-bottom: 0;padding: 0.3em;box-sizing: border-box;text-align: center;}#sk-container-id-2 label.sk-toggleable__label-arrow:before {content: \"▸\";float: left;margin-right: 0.25em;color: #696969;}#sk-container-id-2 label.sk-toggleable__label-arrow:hover:before {color: black;}#sk-container-id-2 div.sk-estimator:hover label.sk-toggleable__label-arrow:before {color: black;}#sk-container-id-2 div.sk-toggleable__content {max-height: 0;max-width: 0;overflow: hidden;text-align: left;background-color: #f0f8ff;}#sk-container-id-2 div.sk-toggleable__content pre {margin: 0.2em;color: black;border-radius: 0.25em;background-color: #f0f8ff;}#sk-container-id-2 input.sk-toggleable__control:checked~div.sk-toggleable__content {max-height: 200px;max-width: 100%;overflow: auto;}#sk-container-id-2 input.sk-toggleable__control:checked~label.sk-toggleable__label-arrow:before {content: \"▾\";}#sk-container-id-2 div.sk-estimator input.sk-toggleable__control:checked~label.sk-toggleable__label {background-color: #d4ebff;}#sk-container-id-2 div.sk-label input.sk-toggleable__control:checked~label.sk-toggleable__label {background-color: #d4ebff;}#sk-container-id-2 input.sk-hidden--visually {border: 0;clip: rect(1px 1px 1px 1px);clip: rect(1px, 1px, 1px, 1px);height: 1px;margin: -1px;overflow: hidden;padding: 0;position: absolute;width: 1px;}#sk-container-id-2 div.sk-estimator {font-family: monospace;background-color: #f0f8ff;border: 1px dotted black;border-radius: 0.25em;box-sizing: border-box;margin-bottom: 0.5em;}#sk-container-id-2 div.sk-estimator:hover {background-color: #d4ebff;}#sk-container-id-2 div.sk-parallel-item::after {content: \"\";width: 100%;border-bottom: 1px solid gray;flex-grow: 1;}#sk-container-id-2 div.sk-label:hover label.sk-toggleable__label {background-color: #d4ebff;}#sk-container-id-2 div.sk-serial::before {content: \"\";position: absolute;border-left: 1px solid gray;box-sizing: border-box;top: 0;bottom: 0;left: 50%;z-index: 0;}#sk-container-id-2 div.sk-serial {display: flex;flex-direction: column;align-items: center;background-color: white;padding-right: 0.2em;padding-left: 0.2em;position: relative;}#sk-container-id-2 div.sk-item {position: relative;z-index: 1;}#sk-container-id-2 div.sk-parallel {display: flex;align-items: stretch;justify-content: center;background-color: white;position: relative;}#sk-container-id-2 div.sk-item::before, #sk-container-id-2 div.sk-parallel-item::before {content: \"\";position: absolute;border-left: 1px solid gray;box-sizing: border-box;top: 0;bottom: 0;left: 50%;z-index: -1;}#sk-container-id-2 div.sk-parallel-item {display: flex;flex-direction: column;z-index: 1;position: relative;background-color: white;}#sk-container-id-2 div.sk-parallel-item:first-child::after {align-self: flex-end;width: 50%;}#sk-container-id-2 div.sk-parallel-item:last-child::after {align-self: flex-start;width: 50%;}#sk-container-id-2 div.sk-parallel-item:only-child::after {width: 0;}#sk-container-id-2 div.sk-dashed-wrapped {border: 1px dashed gray;margin: 0 0.4em 0.5em 0.4em;box-sizing: border-box;padding-bottom: 0.4em;background-color: white;}#sk-container-id-2 div.sk-label label {font-family: monospace;font-weight: bold;display: inline-block;line-height: 1.2em;}#sk-container-id-2 div.sk-label-container {text-align: center;}#sk-container-id-2 div.sk-container {/* jupyter's `normalize.less` sets `[hidden] { display: none; }` but bootstrap.min.css set `[hidden] { display: none !important; }` so we also need the `!important` here to be able to override the default hidden behavior on the sphinx rendered scikit-learn.org. See: https://github.com/scikit-learn/scikit-learn/issues/21755 */display: inline-block !important;position: relative;}#sk-container-id-2 div.sk-text-repr-fallback {display: none;}</style><div id=\"sk-container-id-2\" class=\"sk-top-container\"><div class=\"sk-text-repr-fallback\"><pre>Pipeline(steps=[(&#x27;columntransformer&#x27;,\n",
       "                 ColumnTransformer(remainder=&#x27;passthrough&#x27;,\n",
       "                                   transformers=[(&#x27;onehotencoder&#x27;,\n",
       "                                                  OneHotEncoder(),\n",
       "                                                  [&#x27;content_rating&#x27;])])),\n",
       "                (&#x27;decisiontreeclassifier&#x27;, DecisionTreeClassifier())])</pre><b>In a Jupyter environment, please rerun this cell to show the HTML representation or trust the notebook. <br />On GitHub, the HTML representation is unable to render, please try loading this page with nbviewer.org.</b></div><div class=\"sk-container\" hidden><div class=\"sk-item sk-dashed-wrapped\"><div class=\"sk-label-container\"><div class=\"sk-label sk-toggleable\"><input class=\"sk-toggleable__control sk-hidden--visually\" id=\"sk-estimator-id-8\" type=\"checkbox\" ><label for=\"sk-estimator-id-8\" class=\"sk-toggleable__label sk-toggleable__label-arrow\">Pipeline</label><div class=\"sk-toggleable__content\"><pre>Pipeline(steps=[(&#x27;columntransformer&#x27;,\n",
       "                 ColumnTransformer(remainder=&#x27;passthrough&#x27;,\n",
       "                                   transformers=[(&#x27;onehotencoder&#x27;,\n",
       "                                                  OneHotEncoder(),\n",
       "                                                  [&#x27;content_rating&#x27;])])),\n",
       "                (&#x27;decisiontreeclassifier&#x27;, DecisionTreeClassifier())])</pre></div></div></div><div class=\"sk-serial\"><div class=\"sk-item sk-dashed-wrapped\"><div class=\"sk-label-container\"><div class=\"sk-label sk-toggleable\"><input class=\"sk-toggleable__control sk-hidden--visually\" id=\"sk-estimator-id-9\" type=\"checkbox\" ><label for=\"sk-estimator-id-9\" class=\"sk-toggleable__label sk-toggleable__label-arrow\">columntransformer: ColumnTransformer</label><div class=\"sk-toggleable__content\"><pre>ColumnTransformer(remainder=&#x27;passthrough&#x27;,\n",
       "                  transformers=[(&#x27;onehotencoder&#x27;, OneHotEncoder(),\n",
       "                                 [&#x27;content_rating&#x27;])])</pre></div></div></div><div class=\"sk-parallel\"><div class=\"sk-parallel-item\"><div class=\"sk-item\"><div class=\"sk-label-container\"><div class=\"sk-label sk-toggleable\"><input class=\"sk-toggleable__control sk-hidden--visually\" id=\"sk-estimator-id-10\" type=\"checkbox\" ><label for=\"sk-estimator-id-10\" class=\"sk-toggleable__label sk-toggleable__label-arrow\">onehotencoder</label><div class=\"sk-toggleable__content\"><pre>[&#x27;content_rating&#x27;]</pre></div></div></div><div class=\"sk-serial\"><div class=\"sk-item\"><div class=\"sk-estimator sk-toggleable\"><input class=\"sk-toggleable__control sk-hidden--visually\" id=\"sk-estimator-id-11\" type=\"checkbox\" ><label for=\"sk-estimator-id-11\" class=\"sk-toggleable__label sk-toggleable__label-arrow\">OneHotEncoder</label><div class=\"sk-toggleable__content\"><pre>OneHotEncoder()</pre></div></div></div></div></div></div><div class=\"sk-parallel-item\"><div class=\"sk-item\"><div class=\"sk-label-container\"><div class=\"sk-label sk-toggleable\"><input class=\"sk-toggleable__control sk-hidden--visually\" id=\"sk-estimator-id-12\" type=\"checkbox\" ><label for=\"sk-estimator-id-12\" class=\"sk-toggleable__label sk-toggleable__label-arrow\">remainder</label><div class=\"sk-toggleable__content\"><pre>[&#x27;runtime&#x27;, &#x27;tomatometer_rating&#x27;, &#x27;audience_status&#x27;, &#x27;audience_rating&#x27;, &#x27;audience_count&#x27;]</pre></div></div></div><div class=\"sk-serial\"><div class=\"sk-item\"><div class=\"sk-estimator sk-toggleable\"><input class=\"sk-toggleable__control sk-hidden--visually\" id=\"sk-estimator-id-13\" type=\"checkbox\" ><label for=\"sk-estimator-id-13\" class=\"sk-toggleable__label sk-toggleable__label-arrow\">passthrough</label><div class=\"sk-toggleable__content\"><pre>passthrough</pre></div></div></div></div></div></div></div></div><div class=\"sk-item\"><div class=\"sk-estimator sk-toggleable\"><input class=\"sk-toggleable__control sk-hidden--visually\" id=\"sk-estimator-id-14\" type=\"checkbox\" ><label for=\"sk-estimator-id-14\" class=\"sk-toggleable__label sk-toggleable__label-arrow\">DecisionTreeClassifier</label><div class=\"sk-toggleable__content\"><pre>DecisionTreeClassifier()</pre></div></div></div></div></div></div></div>"
      ],
      "text/plain": [
       "Pipeline(steps=[('columntransformer',\n",
       "                 ColumnTransformer(remainder='passthrough',\n",
       "                                   transformers=[('onehotencoder',\n",
       "                                                  OneHotEncoder(),\n",
       "                                                  ['content_rating'])])),\n",
       "                ('decisiontreeclassifier', DecisionTreeClassifier())])"
      ]
     },
     "execution_count": 22,
     "metadata": {},
     "output_type": "execute_result"
    }
   ],
   "source": [
    "%%time\n",
    "#Decision tree classifier with the default parameters\n",
    "from sklearn.tree import DecisionTreeClassifier\n",
    "ohe = OneHotEncoder()\n",
    "column_trans = make_column_transformer((ohe,['content_rating']),\n",
    "                                        remainder='passthrough')\n",
    "\n",
    "dtree=DecisionTreeClassifier()\n",
    "\n",
    "pipe = make_pipeline(column_trans,dtree)\n",
    "pipe.fit(X_train,y_train)"
   ]
  },
  {
   "cell_type": "code",
   "execution_count": 23,
   "id": "cc796da5-d455-4f74-8f59-5720bea5e796",
   "metadata": {},
   "outputs": [
    {
     "name": "stdout",
     "output_type": "stream",
     "text": [
      "Accuracy of the model is 85.64356435643565 \n",
      "Accuracy of the training model is 100.0 \n",
      "\n",
      "Classification  report is as follows :\n",
      "               precision    recall  f1-score   support\n",
      "\n",
      "           0       1.00      1.00      1.00       847\n",
      "           1       0.81      0.77      0.79       698\n",
      "           2       0.68      0.73      0.70       475\n",
      "\n",
      "    accuracy                           0.86      2020\n",
      "   macro avg       0.83      0.83      0.83      2020\n",
      "weighted avg       0.86      0.86      0.86      2020\n",
      " \n"
     ]
    }
   ],
   "source": [
    "y_pred=pipe.predict(X_test)\n",
    "print(f\"Accuracy of the model is {accuracy_score(y_test,y_pred)*100} \")\n",
    "y_train_pred = pipe.predict(X_train)\n",
    "print(f\"Accuracy of the training model is {accuracy_score(y_train,y_train_pred)*100} \")\n",
    "\n",
    "report = classification_report(y_test,y_pred)\n",
    "print(f\"\\nClassification  report is as follows :\\n {report} \")\n",
    "\n",
    "acc_tr_dt = accuracy_score(y_train,y_train_pred)*100\n",
    "acc_te_dt = accuracy_score(y_test,y_pred)*100"
   ]
  },
  {
   "cell_type": "raw",
   "id": "988d1838-c3ee-4a7c-995b-3149bc578c7d",
   "metadata": {},
   "source": [
    "Decision tree seems to have very good accuracy of 85% but KNN is struggling."
   ]
  },
  {
   "cell_type": "markdown",
   "id": "d6c3835e-363c-404f-bd04-50cfaa3f2a5a",
   "metadata": {},
   "source": [
    "IMPROVE THE ACCURACY\n",
    "Lets evaluate audience_count  -- \n",
    "The audience count has 11069 values which is very huge and unwanted. It makes the model unstable\n",
    "Rerun the model removing audience_count metric"
   ]
  },
  {
   "cell_type": "code",
   "execution_count": 24,
   "id": "722f3f4f-5546-41a7-8f86-7807789323d6",
   "metadata": {},
   "outputs": [
    {
     "name": "stdout",
     "output_type": "stream",
     "text": [
      "<class 'pandas.core.frame.DataFrame'>\n",
      "Index: 8077 entries, 0 to 17710\n",
      "Data columns (total 5 columns):\n",
      " #   Column              Non-Null Count  Dtype  \n",
      "---  ------              --------------  -----  \n",
      " 0   content_rating      8077 non-null   object \n",
      " 1   runtime             8077 non-null   float64\n",
      " 2   tomatometer_rating  8077 non-null   float64\n",
      " 3   audience_status     8077 non-null   int64  \n",
      " 4   audience_rating     8077 non-null   float64\n",
      "dtypes: float64(3), int64(1), object(1)\n",
      "memory usage: 378.6+ KB\n"
     ]
    }
   ],
   "source": [
    "X1 = X[['content_rating','runtime','tomatometer_rating','audience_status','audience_rating']]\n",
    "y1 = y[['tomatometer_status']]\n",
    "X1.info()\n",
    "#Now we have thus eliminated the audience_count column"
   ]
  },
  {
   "cell_type": "code",
   "execution_count": 25,
   "id": "ed25d3f7-db33-43d9-b80b-13d2ab6b1a98",
   "metadata": {},
   "outputs": [
    {
     "name": "stdout",
     "output_type": "stream",
     "text": [
      "Size of training data is:6057\n",
      "Size of test data is:2020\n",
      "Classification  report is as follows :\n",
      "               precision    recall  f1-score   support\n",
      "\n",
      "           0       0.99      0.99      0.99       875\n",
      "           1       0.78      0.84      0.81       672\n",
      "           2       0.73      0.65      0.68       473\n",
      "\n",
      "    accuracy                           0.86      2020\n",
      "   macro avg       0.83      0.83      0.83      2020\n",
      "weighted avg       0.86      0.86      0.86      2020\n",
      " \n",
      "Accuracy of the training model is 91.64602938748556 \n",
      "Accuracy of the testing model is 85.99009900990099 \n"
     ]
    }
   ],
   "source": [
    "from sklearn.model_selection import train_test_split\n",
    "X1_train,X1_test,y1_train,y1_test = train_test_split(X1,y1,test_size=0.25)\n",
    "print(f\"Size of training data is:{len(X1_train)}\")\n",
    "print(f\"Size of test data is:{len(X1_test)}\")\n",
    "\n",
    "#Test the K neighbors classification with the default parameters\n",
    "ohe = OneHotEncoder()\n",
    "column_trans = make_column_transformer((ohe,['content_rating']),\n",
    "                                        remainder='passthrough')\n",
    "\n",
    "KNN=KNeighborsClassifier(n_neighbors=3)\n",
    "\n",
    "pipe = make_pipeline(column_trans,KNN)\n",
    "pipe.fit(X1_train,y1_train)\n",
    "\n",
    "y1_pred=pipe.predict(X1_test)\n",
    "y1_train_pred = pipe.predict(X1_train)\n",
    "\n",
    "report = classification_report(y1_test,y1_pred)\n",
    "print(f\"Classification  report is as follows :\\n {report} \")\n",
    "\n",
    "print(f\"Accuracy of the training model is {accuracy_score(y1_train,y1_train_pred)*100} \")\n",
    "print(f\"Accuracy of the testing model is {accuracy_score(y1_test,y1_pred)*100} \")\n",
    "\n",
    "acc_tr_knn = accuracy_score(y1_train,y1_train_pred)*100\n",
    "acc_te_knn = accuracy_score(y1_test,y1_pred)*100"
   ]
  },
  {
   "cell_type": "markdown",
   "id": "e3951469-8767-482e-a9fe-cc531f4526c1",
   "metadata": {},
   "source": [
    "DEcision Tree - 2nd run"
   ]
  },
  {
   "cell_type": "code",
   "execution_count": 26,
   "id": "5bcd95f3-dbf0-48a7-9fad-5d3761724b9a",
   "metadata": {},
   "outputs": [
    {
     "name": "stdout",
     "output_type": "stream",
     "text": [
      "Accuracy of the testing model is 85.6930693069307 \n",
      "Accuracy of the training model is 99.86792141324088 \n",
      "\n",
      "Classification  report is as follows :\n",
      "               precision    recall  f1-score   support\n",
      "\n",
      "           0       1.00      1.00      1.00       875\n",
      "           1       0.78      0.79      0.79       672\n",
      "           2       0.70      0.69      0.69       473\n",
      "\n",
      "    accuracy                           0.86      2020\n",
      "   macro avg       0.83      0.83      0.83      2020\n",
      "weighted avg       0.86      0.86      0.86      2020\n",
      " \n"
     ]
    }
   ],
   "source": [
    "ohe = OneHotEncoder()\n",
    "column_trans = make_column_transformer((ohe,['content_rating']),\n",
    "                                        remainder='passthrough')\n",
    "\n",
    "dtree=DecisionTreeClassifier()\n",
    "\n",
    "pipe = make_pipeline(column_trans,dtree)\n",
    "pipe.fit(X1_train,y1_train)\n",
    "y1_pred=pipe.predict(X1_test)\n",
    "print(f\"Accuracy of the testing model is {accuracy_score(y1_test,y1_pred)*100} \")\n",
    "y1_train_pred = pipe.predict(X1_train)\n",
    "print(f\"Accuracy of the training model is {accuracy_score(y1_train,y1_train_pred)*100} \")\n",
    "\n",
    "report = classification_report(y1_test,y1_pred)\n",
    "print(f\"\\nClassification  report is as follows :\\n {report} \")\n",
    "\n",
    "acc_tr_dt = accuracy_score(y1_train,y1_train_pred)*100\n",
    "acc_te_dt = accuracy_score(y1_test,y1_pred)*100"
   ]
  },
  {
   "cell_type": "markdown",
   "id": "f998e3e7-477f-42d0-bcef-cd9e14df1842",
   "metadata": {},
   "source": [
    "Thus at the end of 2 iterations, we can confidently say both Decision Tree and KNN yield a very good accuracy rate of around 85%\n"
   ]
  },
  {
   "cell_type": "markdown",
   "id": "a2af630c-67c1-4b1e-87ec-deaade12b5a2",
   "metadata": {},
   "source": []
  },
  {
   "cell_type": "code",
   "execution_count": 27,
   "id": "19492bf9-474a-43d4-98db-493092ff2674",
   "metadata": {},
   "outputs": [
    {
     "data": {
      "text/html": [
       "<div>\n",
       "<style scoped>\n",
       "    .dataframe tbody tr th:only-of-type {\n",
       "        vertical-align: middle;\n",
       "    }\n",
       "\n",
       "    .dataframe tbody tr th {\n",
       "        vertical-align: top;\n",
       "    }\n",
       "\n",
       "    .dataframe thead th {\n",
       "        text-align: right;\n",
       "    }\n",
       "</style>\n",
       "<table border=\"1\" class=\"dataframe\">\n",
       "  <thead>\n",
       "    <tr style=\"text-align: right;\">\n",
       "      <th></th>\n",
       "      <th>Model_Name</th>\n",
       "      <th>Training_Accuracy</th>\n",
       "      <th>Testing_Accuracy</th>\n",
       "    </tr>\n",
       "  </thead>\n",
       "  <tbody>\n",
       "    <tr>\n",
       "      <th>0</th>\n",
       "      <td>KNN</td>\n",
       "      <td>91.646029</td>\n",
       "      <td>85.990099</td>\n",
       "    </tr>\n",
       "    <tr>\n",
       "      <th>1</th>\n",
       "      <td>Decision_Tree</td>\n",
       "      <td>99.867921</td>\n",
       "      <td>85.693069</td>\n",
       "    </tr>\n",
       "  </tbody>\n",
       "</table>\n",
       "</div>"
      ],
      "text/plain": [
       "      Model_Name  Training_Accuracy  Testing_Accuracy\n",
       "0            KNN          91.646029         85.990099\n",
       "1  Decision_Tree          99.867921         85.693069"
      ]
     },
     "execution_count": 27,
     "metadata": {},
     "output_type": "execute_result"
    }
   ],
   "source": [
    "#Build a data frame with the necessary parameters to display\n",
    "model_data = [  ('KNN',acc_tr_knn,acc_te_knn),\n",
    "                ('Decision_Tree',acc_tr_dt,acc_te_dt)\n",
    "             ]\n",
    "model_comp = pd.DataFrame(model_data,columns=['Model_Name','Training_Accuracy','Testing_Accuracy'])\n",
    "model_comp"
   ]
  },
  {
   "cell_type": "markdown",
   "id": "5decd8f1-5b20-49d2-a446-ea1627ccb010",
   "metadata": {},
   "source": [
    "Hypertuning of Decision tree using Gridsearchcv to determine the best 'maxdepth'"
   ]
  },
  {
   "cell_type": "code",
   "execution_count": 28,
   "id": "36794cd2-93cd-415c-9cea-51f137e8a0b7",
   "metadata": {},
   "outputs": [
    {
     "data": {
      "text/html": [
       "<style>#sk-container-id-3 {color: black;background-color: white;}#sk-container-id-3 pre{padding: 0;}#sk-container-id-3 div.sk-toggleable {background-color: white;}#sk-container-id-3 label.sk-toggleable__label {cursor: pointer;display: block;width: 100%;margin-bottom: 0;padding: 0.3em;box-sizing: border-box;text-align: center;}#sk-container-id-3 label.sk-toggleable__label-arrow:before {content: \"▸\";float: left;margin-right: 0.25em;color: #696969;}#sk-container-id-3 label.sk-toggleable__label-arrow:hover:before {color: black;}#sk-container-id-3 div.sk-estimator:hover label.sk-toggleable__label-arrow:before {color: black;}#sk-container-id-3 div.sk-toggleable__content {max-height: 0;max-width: 0;overflow: hidden;text-align: left;background-color: #f0f8ff;}#sk-container-id-3 div.sk-toggleable__content pre {margin: 0.2em;color: black;border-radius: 0.25em;background-color: #f0f8ff;}#sk-container-id-3 input.sk-toggleable__control:checked~div.sk-toggleable__content {max-height: 200px;max-width: 100%;overflow: auto;}#sk-container-id-3 input.sk-toggleable__control:checked~label.sk-toggleable__label-arrow:before {content: \"▾\";}#sk-container-id-3 div.sk-estimator input.sk-toggleable__control:checked~label.sk-toggleable__label {background-color: #d4ebff;}#sk-container-id-3 div.sk-label input.sk-toggleable__control:checked~label.sk-toggleable__label {background-color: #d4ebff;}#sk-container-id-3 input.sk-hidden--visually {border: 0;clip: rect(1px 1px 1px 1px);clip: rect(1px, 1px, 1px, 1px);height: 1px;margin: -1px;overflow: hidden;padding: 0;position: absolute;width: 1px;}#sk-container-id-3 div.sk-estimator {font-family: monospace;background-color: #f0f8ff;border: 1px dotted black;border-radius: 0.25em;box-sizing: border-box;margin-bottom: 0.5em;}#sk-container-id-3 div.sk-estimator:hover {background-color: #d4ebff;}#sk-container-id-3 div.sk-parallel-item::after {content: \"\";width: 100%;border-bottom: 1px solid gray;flex-grow: 1;}#sk-container-id-3 div.sk-label:hover label.sk-toggleable__label {background-color: #d4ebff;}#sk-container-id-3 div.sk-serial::before {content: \"\";position: absolute;border-left: 1px solid gray;box-sizing: border-box;top: 0;bottom: 0;left: 50%;z-index: 0;}#sk-container-id-3 div.sk-serial {display: flex;flex-direction: column;align-items: center;background-color: white;padding-right: 0.2em;padding-left: 0.2em;position: relative;}#sk-container-id-3 div.sk-item {position: relative;z-index: 1;}#sk-container-id-3 div.sk-parallel {display: flex;align-items: stretch;justify-content: center;background-color: white;position: relative;}#sk-container-id-3 div.sk-item::before, #sk-container-id-3 div.sk-parallel-item::before {content: \"\";position: absolute;border-left: 1px solid gray;box-sizing: border-box;top: 0;bottom: 0;left: 50%;z-index: -1;}#sk-container-id-3 div.sk-parallel-item {display: flex;flex-direction: column;z-index: 1;position: relative;background-color: white;}#sk-container-id-3 div.sk-parallel-item:first-child::after {align-self: flex-end;width: 50%;}#sk-container-id-3 div.sk-parallel-item:last-child::after {align-self: flex-start;width: 50%;}#sk-container-id-3 div.sk-parallel-item:only-child::after {width: 0;}#sk-container-id-3 div.sk-dashed-wrapped {border: 1px dashed gray;margin: 0 0.4em 0.5em 0.4em;box-sizing: border-box;padding-bottom: 0.4em;background-color: white;}#sk-container-id-3 div.sk-label label {font-family: monospace;font-weight: bold;display: inline-block;line-height: 1.2em;}#sk-container-id-3 div.sk-label-container {text-align: center;}#sk-container-id-3 div.sk-container {/* jupyter's `normalize.less` sets `[hidden] { display: none; }` but bootstrap.min.css set `[hidden] { display: none !important; }` so we also need the `!important` here to be able to override the default hidden behavior on the sphinx rendered scikit-learn.org. See: https://github.com/scikit-learn/scikit-learn/issues/21755 */display: inline-block !important;position: relative;}#sk-container-id-3 div.sk-text-repr-fallback {display: none;}</style><div id=\"sk-container-id-3\" class=\"sk-top-container\"><div class=\"sk-text-repr-fallback\"><pre>DecisionTreeClassifier(criterion=&#x27;entropy&#x27;, max_depth=3)</pre><b>In a Jupyter environment, please rerun this cell to show the HTML representation or trust the notebook. <br />On GitHub, the HTML representation is unable to render, please try loading this page with nbviewer.org.</b></div><div class=\"sk-container\" hidden><div class=\"sk-item\"><div class=\"sk-estimator sk-toggleable\"><input class=\"sk-toggleable__control sk-hidden--visually\" id=\"sk-estimator-id-15\" type=\"checkbox\" checked><label for=\"sk-estimator-id-15\" class=\"sk-toggleable__label sk-toggleable__label-arrow\">DecisionTreeClassifier</label><div class=\"sk-toggleable__content\"><pre>DecisionTreeClassifier(criterion=&#x27;entropy&#x27;, max_depth=3)</pre></div></div></div></div></div>"
      ],
      "text/plain": [
       "DecisionTreeClassifier(criterion='entropy', max_depth=3)"
      ]
     },
     "execution_count": 28,
     "metadata": {},
     "output_type": "execute_result"
    }
   ],
   "source": [
    "from sklearn.model_selection import GridSearchCV\n",
    "\n",
    "ohe = OneHotEncoder()\n",
    "column_trans = make_column_transformer((ohe,['content_rating']),\n",
    "                                        remainder='passthrough')\n",
    "\n",
    "dtree=DecisionTreeClassifier(criterion='entropy')\n",
    "dtree_params = [{\"max_depth\":[2,3,4,5]}]\n",
    "grid_search = GridSearchCV(dtree,param_grid=dtree_params,scoring='accuracy')\n",
    "\n",
    "pipe = make_pipeline(column_trans,grid_search)\n",
    "pipe.fit(X1_train,y1_train)\n",
    "\n",
    "grid_search.best_estimator_"
   ]
  },
  {
   "cell_type": "code",
   "execution_count": 29,
   "id": "464e5e9c-78d0-4bb0-8b59-3df3c3e49610",
   "metadata": {},
   "outputs": [],
   "source": [
    "y1_test_pred = pipe.predict(X1_test)\n",
    "test_run_1 = accuracy_score(y1_test,y1_test_pred)*100"
   ]
  },
  {
   "cell_type": "code",
   "execution_count": 30,
   "id": "f22fd1a8-5bc0-4caa-8047-79ccb02b8072",
   "metadata": {},
   "outputs": [
    {
     "data": {
      "text/html": [
       "<div>\n",
       "<style scoped>\n",
       "    .dataframe tbody tr th:only-of-type {\n",
       "        vertical-align: middle;\n",
       "    }\n",
       "\n",
       "    .dataframe tbody tr th {\n",
       "        vertical-align: top;\n",
       "    }\n",
       "\n",
       "    .dataframe thead th {\n",
       "        text-align: right;\n",
       "    }\n",
       "</style>\n",
       "<table border=\"1\" class=\"dataframe\">\n",
       "  <thead>\n",
       "    <tr style=\"text-align: right;\">\n",
       "      <th></th>\n",
       "      <th>Model_Name</th>\n",
       "      <th>Training_Accuracy</th>\n",
       "      <th>Testing_Accuracy</th>\n",
       "      <th>Testing_Acc_gridcv</th>\n",
       "    </tr>\n",
       "  </thead>\n",
       "  <tbody>\n",
       "    <tr>\n",
       "      <th>0</th>\n",
       "      <td>Decision_Tree</td>\n",
       "      <td>99.867921</td>\n",
       "      <td>85.693069</td>\n",
       "      <td>89.356436</td>\n",
       "    </tr>\n",
       "  </tbody>\n",
       "</table>\n",
       "</div>"
      ],
      "text/plain": [
       "      Model_Name  Training_Accuracy  Testing_Accuracy  Testing_Acc_gridcv\n",
       "0  Decision_Tree          99.867921         85.693069           89.356436"
      ]
     },
     "execution_count": 30,
     "metadata": {},
     "output_type": "execute_result"
    }
   ],
   "source": [
    "model_data1 = [ \n",
    "                ('Decision_Tree',acc_tr_dt,acc_te_dt,test_run_1)\n",
    "             ]\n",
    "model_comp1 = pd.DataFrame(model_data1,columns=['Model_Name','Training_Accuracy','Testing_Accuracy','Testing_Acc_gridcv'])\n",
    "model_comp1"
   ]
  },
  {
   "cell_type": "markdown",
   "id": "dd7a509b-03f0-4d82-8ee8-caf117c55493",
   "metadata": {},
   "source": [
    "************************Summary of findings********************************\n",
    "Objective was to predict the tomatometer ratings of Rotten Tomatoes website\n",
    "Eventually the goal could be to predict the box office outcome of movies\n",
    "\n",
    "https://www.kaggle.com/datasets/stefanoleone992/rotten-tomatoes-movies-and-critic-reviews-dataset?select=rotten_tomatoes_movies.csv\n",
    "\n",
    "1. Data trimming happened to eliminate all duplicate, null, nan values \n",
    "2. Ordinal Encoding and One hot encoding were applied to non numerical values\n",
    "3. With detailed data analysis, we concluded to use these input features would \n",
    "work best\n",
    "     0   content_rating      8077 non-null   object \n",
    "     1   runtime             8077 non-null   float64\n",
    "     2   tomatometer_rating  8077 non-null   float64\n",
    "     3   audience_status     8077 non-null   int64  \n",
    "     4   audience_rating     8077 non-null   float64\n",
    "4. The data set was divided into training and testing data set (75/25)\n",
    "5. KNN and Decision Tree models were used to train and test the data\n",
    "6. Decision tree performed better with 85% accuracy rate, however KNN \n",
    "   struggled at around 55% accuracy rate\n",
    "7. We then decided to remove audience count metric and re-run the modeling\n",
    "At this point both models (KNN, Decision Tree) performed well with around 86% accuracy\n",
    "8. Hyper tuning of the parameters happened for Decision tree and it was found that \n",
    "with max tree depth of 5, the accuracy of the Decision tree model hit around 90%\n"
   ]
  }
 ],
 "metadata": {
  "kernelspec": {
   "display_name": "Python 3 (ipykernel)",
   "language": "python",
   "name": "python3"
  },
  "language_info": {
   "codemirror_mode": {
    "name": "ipython",
    "version": 3
   },
   "file_extension": ".py",
   "mimetype": "text/x-python",
   "name": "python",
   "nbconvert_exporter": "python",
   "pygments_lexer": "ipython3",
   "version": "3.11.8"
  }
 },
 "nbformat": 4,
 "nbformat_minor": 5
}
